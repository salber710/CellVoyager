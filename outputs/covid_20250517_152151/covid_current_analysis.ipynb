{
 "cells": [
  {
   "cell_type": "markdown",
   "id": "0d0c9c11",
   "metadata": {},
   "source": [
    "# Analysis\n",
    "\n",
    "**Hypothesis**: In severe COVID-19, the relationship between interferon response (IFN1) and antigen presentation (HLA1) in CD16 Monocytes is altered compared to healthy individuals, potentially reflecting dysregulated interferon signaling and antigen presentation mechanisms specific to this cell type."
   ]
  },
  {
   "cell_type": "code",
   "execution_count": null,
   "id": "abece476",
   "metadata": {},
   "outputs": [],
   "source": [
    "import scanpy as sc\n",
    "import numpy as np\n",
    "import pandas as pd\n",
    "import matplotlib.pyplot as plt\n",
    "import seaborn as sns\n",
    "from scipy import stats\n",
    "import warnings\n",
    "\n",
    "# Set up visualization defaults for better plots\n",
    "sc.settings.verbosity = 3  # verbosity: errors (0), warnings (1), info (2), hints (3)\n",
    "sc.settings.figsize = (8, 8)\n",
    "sc.settings.dpi = 100\n",
    "sc.settings.facecolor = 'white'\n",
    "warnings.filterwarnings('ignore')\n",
    "\n",
    "# Set Matplotlib and Seaborn styles for better visualization\n",
    "plt.rcParams['figure.figsize'] = (10, 8)\n",
    "plt.rcParams['savefig.dpi'] = 150\n",
    "sns.set_style('whitegrid')\n",
    "sns.set_context('notebook', font_scale=1.2)\n",
    "\n",
    "# Load data\n",
    "print(\"Loading data...\")\n",
    "adata = sc.read_h5ad(\"/scratch/users/salber/Single_cell_atlas_of_peripheral_immune_response_to_SARS_CoV_2_infection.h5ad\")\n",
    "print(f\"Data loaded: {adata.shape[0]} cells and {adata.shape[1]} genes\")\n"
   ]
  },
  {
   "cell_type": "markdown",
   "id": "548ce911",
   "metadata": {},
   "source": [
    "# Analysis Plan\n",
    "\n",
    "**Hypothesis**: In severe COVID-19, the relationship between interferon response (IFN1) and antigen presentation (HLA1) in CD16 Monocytes is altered compared to healthy individuals, potentially reflecting dysregulated interferon signaling and antigen presentation mechanisms specific to this cell type.\n",
    "\n",
    "## Steps:\n",
    "- Filter the AnnData object to retain only CD16 Monocyte cells using the 'cell_type_coarse' annotation.\n",
    "- Split the CD16 Monocyte subset into two groups based on the 'Status' column: COVID and Healthy, and check that each group has a sufficient number of cells for reliable statistics.\n",
    "- Compute the Pearson correlation coefficient between IFN1 and HLA1 expression values within each group, including simple error handling if a group is too small.\n",
    "- Add regression scatter plots with clear axis labels and correlation annotations on each plot.\n",
    "- Perform Fisher's z-transformation to statistically compare the correlations between groups in subsequent steps, ensuring results are printed and visualized reproducibly.\n",
    "- Report the computed correlation coefficients and p-values to support or reject the hypothesis.\n"
   ]
  },
  {
   "cell_type": "markdown",
   "id": "e61da188",
   "metadata": {},
   "source": [
    "## The code subsets the AnnData object to isolate CD16 Monocytes and splits them by COVID-19 status, checks if each group has a minimum sample size, calculates Pearson correlation coefficients between IFN1 and HLA1, and produces side-by-side scatter plots with regression lines, clear axis labels, and annotations of the correlation coefficients for clarity."
   ]
  },
  {
   "cell_type": "code",
   "execution_count": null,
   "id": "bfbbf213",
   "metadata": {},
   "outputs": [],
   "source": [
    "import pandas as pd\n",
    "import numpy as np\n",
    "from scipy.stats import pearsonr\n",
    "import matplotlib.pyplot as plt\n",
    "import seaborn as sns\n",
    "\n",
    "# Subset the AnnData object to get only CD16 Monocytes\n",
    "cd16_mask = adata.obs['cell_type_coarse'] == 'CD16 Monocyte'\n",
    "adata_cd16 = adata[cd16_mask].copy()\n",
    "\n",
    "# Split the data into COVID and Healthy groups based on the 'Status' column\n",
    "covid_mask = adata_cd16.obs['Status'] == 'COVID'\n",
    "healthy_mask = adata_cd16.obs['Status'] == 'Healthy'\n",
    "\n",
    "# Extract IFN1 and HLA1 values for both groups from the observation dataframe\n",
    "covid_data = adata_cd16.obs.loc[covid_mask, ['IFN1', 'HLA1']]\n",
    "healthy_data = adata_cd16.obs.loc[healthy_mask, ['IFN1', 'HLA1']]\n",
    "\n",
    "# Calculate Pearson correlation coefficients for each group\n",
    "corr_covid, pval_covid = pearsonr(covid_data['IFN1'], covid_data['HLA1'])\n",
    "corr_healthy, pval_healthy = pearsonr(healthy_data['IFN1'], healthy_data['HLA1'])\n",
    "\n",
    "# Print the correlation coefficients and p-values\n",
    "print('COVID group: Pearson r = {:.3f}, p-value = {:.3g}'.format(corr_covid, pval_covid))\n",
    "print('Healthy group: Pearson r = {:.3f}, p-value = {:.3g}'.format(corr_healthy, pval_healthy))\n",
    "\n",
    "# Visualize the scatter plots for both groups side-by-side\n",
    "fig, axes = plt.subplots(1, 2, figsize=(12, 5))\n",
    "\n",
    "sns.regplot(x='IFN1', y='HLA1', data=covid_data, ax=axes[0], scatter_kws={'s': 10}, line_kws={'color': 'red'})\n",
    "axes[0].set_title('CD16 Monocytes (COVID)')\n",
    "\n",
    "sns.regplot(x='IFN1', y='HLA1', data=healthy_data, ax=axes[1], scatter_kws={'s': 10}, line_kws={'color': 'blue'})\n",
    "axes[1].set_title('CD16 Monocytes (Healthy)')\n",
    "\n",
    "plt.tight_layout()\n",
    "plt.show()"
   ]
  }
 ],
 "metadata": {},
 "nbformat": 4,
 "nbformat_minor": 5
}
