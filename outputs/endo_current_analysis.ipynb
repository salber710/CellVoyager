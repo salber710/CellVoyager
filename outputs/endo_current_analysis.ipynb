{
 "cells": [
  {
   "cell_type": "markdown",
   "id": "80ece001",
   "metadata": {},
   "source": [
    "# Analysis\n",
    "\n",
    "**Hypothesis**: We hypothesize that the transcriptional heterogeneity (dispersion) within specific endometrial cell types, such as Unciliated epithelia and Stromal fibroblasts, changes systematically over the menstrual cycle. These temporal shifts in gene expression dispersion may indicate critical cellular state transitions associated with the window of implantation."
   ]
  },
  {
   "cell_type": "code",
   "execution_count": null,
   "id": "2c1c3a61",
   "metadata": {},
   "outputs": [],
   "source": [
    "import scanpy as sc\n",
    "import numpy as np\n",
    "import pandas as pd\n",
    "import matplotlib.pyplot as plt\n",
    "import seaborn as sns\n",
    "from scipy import stats\n",
    "import warnings\n",
    "\n",
    "# Set up visualization defaults for better plots\n",
    "sc.settings.verbosity = 3  # verbosity: errors (0), warnings (1), info (2), hints (3)\n",
    "sc.settings.figsize = (8, 8)\n",
    "sc.settings.dpi = 100\n",
    "sc.settings.facecolor = 'white'\n",
    "warnings.filterwarnings('ignore')\n",
    "\n",
    "# Set Matplotlib and Seaborn styles for better visualization\n",
    "plt.rcParams['figure.figsize'] = (10, 8)\n",
    "plt.rcParams['savefig.dpi'] = 150\n",
    "sns.set_style('whitegrid')\n",
    "sns.set_context('notebook', font_scale=1.2)\n",
    "\n",
    "# Load data\n",
    "print(\"Loading data...\")\n",
    "adata = sc.read_h5ad(\"/scratch/users/salber/endo_data.h5ad\")\n",
    "print(f\"Data loaded: {adata.shape[0]} cells and {adata.shape[1]} genes\")\n"
   ]
  },
  {
   "cell_type": "markdown",
   "id": "2c5f881e",
   "metadata": {},
   "source": [
    "# Analysis Plan\n",
    "\n",
    "**Hypothesis**: We hypothesize that the transcriptional heterogeneity (dispersion) within specific endometrial cell types, such as Unciliated epithelia and Stromal fibroblasts, changes systematically over the menstrual cycle. These temporal shifts in gene expression dispersion may indicate critical cellular state transitions associated with the window of implantation.\n",
    "\n",
    "## Steps:\n",
    "- Perform an exploratory analysis to identify highly variable genes (HVGs) across the entire dataset, ensuring that HVG selection is robust across different platforms (10x vs C1) by checking for metadata consistency.\n",
    "- Store the HVG information (e.g., adata.var['highly_variable']) for downstream analyses and note potential normalization or filtering steps to adjust for platform differences and ensure consistency.\n",
    "- For selected cell types (Unciliated epithelia, Stromal fibroblasts, and Endothelia), group cells by day of sampling and compute a measure of transcriptional dispersion (for example, the coefficient of variation or average dispersion computed over HVGs) for each group.\n",
    "- Visualize the temporal trends of dispersion for each cell type using line plots arranged in a grid, allowing direct comparison of trends and accounting for platform-specific effects.\n",
    "- Perform statistical testing (e.g., Spearman correlation or linear regression) to assess the significance of dispersion changes over the menstrual cycle, and print the test results for interpretation.\n",
    "- Interpret the outcomes to determine if changes in transcriptional heterogeneity correlate with key reproductive states such as the window of implantation.\n"
   ]
  },
  {
   "cell_type": "markdown",
   "id": "cd1ba4f5",
   "metadata": {},
   "source": [
    "## This code identifies and stores the top 2000 highly variable genes using the Seurat method in the adata object, along with a visualization to control for quality differences across platforms, which is essential for robust downstream dispersion analyses."
   ]
  },
  {
   "cell_type": "code",
   "execution_count": null,
   "id": "66edb68a",
   "metadata": {},
   "outputs": [],
   "source": [
    "import scanpy as sc\n",
    "import numpy as np\n",
    "import scipy.sparse as sp\n",
    "\n",
    "def fix_infs(adata):\n",
    "    if sp.issparse(adata.X):\n",
    "        data = adata.X.toarray().astype(np.float64)\n",
    "        finite = data[np.isfinite(data)]\n",
    "        if finite.size:\n",
    "            max_finite = finite.max()\n",
    "            min_finite = finite.min()\n",
    "            data = np.where(np.isposinf(data), max_finite, data)\n",
    "            data = np.where(np.isneginf(data), min_finite, data)\n",
    "        else:\n",
    "            data = np.nan_to_num(data, nan=0.0, posinf=0.0, neginf=0.0)\n",
    "        adata.X = data\n",
    "    else:\n",
    "        adata.X = adata.X.astype(np.float64)\n",
    "        finite = adata.X[np.isfinite(adata.X)]\n",
    "        if finite.size:\n",
    "            max_finite = finite.max()\n",
    "            min_finite = finite.min()\n",
    "            adata.X = np.where(np.isposinf(adata.X), max_finite, adata.X)\n",
    "            adata.X = np.where(np.isneginf(adata.X), min_finite, adata.X)\n",
    "        else:\n",
    "            adata.X = np.nan_to_num(adata.X, nan=0.0, posinf=0.0, neginf=0.0)\n",
    "\n",
    "fix_infs(adata)\n",
    "sc.pp.highly_variable_genes(adata, flavor='seurat', n_top_genes=2000)\n",
    "sc.pl.highly_variable_genes(adata, show=True)"
   ]
  }
 ],
 "metadata": {},
 "nbformat": 4,
 "nbformat_minor": 5
}
